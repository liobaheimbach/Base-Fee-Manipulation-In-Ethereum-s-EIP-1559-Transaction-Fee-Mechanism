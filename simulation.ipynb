{
 "cells": [
  {
   "cell_type": "markdown",
   "metadata": {},
   "source": [
    "# Base Fee Manipulation In Ethereum's EIP-1559 Transaction Fee Mechanism"
   ]
  },
  {
   "cell_type": "markdown",
   "metadata": {},
   "source": [
    "This file provides the code to reproduce the simulation's for the paper Base Fee Manipulation In Ethereum's EIP-15591 Transaction Fee Mechanism."
   ]
  },
  {
   "cell_type": "code",
   "execution_count": 1,
   "metadata": {},
   "outputs": [],
   "source": [
    "#import libraries\n",
    "import numpy as np\n",
    "import matplotlib.pyplot as plt\n",
    "import matplotlib \n",
    "from  enum import Enum\n",
    "import random\n",
    "import seaborn as sns\n",
    "from matplotlib.colors import ListedColormap\n",
    "from matplotlib.patches import Patch\n",
    "import pickle\n",
    "import math"
   ]
  },
  {
   "cell_type": "code",
   "execution_count": 2,
   "metadata": {},
   "outputs": [],
   "source": [
    "#colors\n",
    "class Color(Enum):\n",
    "    LIGHTGREEN = \"#96E6B3\" \n",
    "    RED = \"#DA3E52\" \n",
    "    YELLOW = \"#FFE66D\"\n",
    "    VIOLET = \"#7E6B8F\"\n",
    "    LIGHTBLUE = \"#A3D9FF\"\n",
    "    DARKBLUE = \"#06AED5\"\n",
    "    GRAY = \"#A9A9A9\"\n",
    "    PINK = \"#FF6B6B\"\n",
    "    TURQUOISE = \"#4ECDC4\"\n",
    "    GREEN = \"#7FD1B9\""
   ]
  },
  {
   "cell_type": "code",
   "execution_count": 3,
   "metadata": {},
   "outputs": [],
   "source": [
    "#parameters\n",
    "starget = 1\n",
    "close = 0.99\n",
    "runs = 10000"
   ]
  },
  {
   "cell_type": "code",
   "execution_count": 4,
   "metadata": {},
   "outputs": [],
   "source": [
    "#function to calculate savg\n",
    "def savg(prevsavg,s,q): \n",
    "    return (1-q)*s +q*prevsavg\n",
    "\n",
    "#function to calculate the basefee under the mitigation\n",
    "def basefee(prevbasefee,savg,f): \n",
    "    return prevbasefee*(1+f*(savg-starget)/starget)\n",
    "\n",
    "#function to calculate the basefee under EIP-1559\n",
    "def basefeeEIP(prevbasefee,s,f): \n",
    "    return prevbasefee*(1+f*(s-starget)/starget)"
   ]
  },
  {
   "cell_type": "code",
   "execution_count": 5,
   "metadata": {},
   "outputs": [],
   "source": [
    "#simulation of basefee under the mitigation\n",
    "def mitigation(px,f,btarget,eps,a,q):\n",
    "    payoutattackTotal = []\n",
    "    payouthonestTotal = []\n",
    "    counterTotal = []\n",
    "\n",
    "    for i in range(runs):\n",
    "        ATTACK = True\n",
    "        payoutattack = 0\n",
    "        payouthonest= eps*starget\n",
    "        counter = 0\n",
    "        svagvalue = savg(starget,0,q)\n",
    "        basefeevalue = basefee(btarget,svagvalue,f)\n",
    "\n",
    "        while ATTACK:\n",
    "            counter += 1\n",
    "            miner = random.choices(population=['x','y'],weights=[px,1-px])[0]\n",
    "            if miner == \"x\": \n",
    "                payoutattack+= ((1-a)*eps + (btarget-basefeevalue))*starget\n",
    "                payouthonest+= eps*starget\n",
    "                svagvalue = savg(svagvalue,starget,q)\n",
    "                basefeevalue = basefee(basefeevalue,svagvalue,f)\n",
    "            else: \n",
    "                svagvalue = savg(svagvalue,2*starget,q)\n",
    "                basefeevalue = basefee(basefeevalue,svagvalue,f)\n",
    "            if basefeevalue >=close*btarget: \n",
    "                ATTACK =False\n",
    "\n",
    "        payoutattackTotal.append(payoutattack)\n",
    "        payouthonestTotal.append(payouthonest)\n",
    "        counterTotal.append(counter)\n",
    "       \n",
    "    relativeDiff= [(i-j) for i, j in zip(payoutattackTotal, payouthonestTotal)]\n",
    "    return relativeDiff, counterTotal\n",
    "\n",
    "\n"
   ]
  },
  {
   "cell_type": "code",
   "execution_count": 6,
   "metadata": {},
   "outputs": [],
   "source": [
    "#simulation of basefee under EIP-1559\n",
    "def EIP(px,f,btarget,eps,a):\n",
    "\n",
    "    payoutattackTotalEIP = []\n",
    "    payouthonestTotalEIP = []\n",
    "    counterTotalEIP = []\n",
    "\n",
    "    for i in range(runs):\n",
    "        ATTACK = True\n",
    "        payoutattackEIP = 0\n",
    "        payouthonestEIP= eps*starget\n",
    "        counter = 0\n",
    "        basefeevalue = basefeeEIP(btarget,0,f)\n",
    "\n",
    "        while ATTACK:\n",
    "            counter +=1 \n",
    "            miner = random.choices(population=['x','y'],weights=[px,1-px])[0]\n",
    "            if miner == \"x\": \n",
    "                payoutattackEIP+= ((1-a)*eps + (btarget-basefeevalue))*starget\n",
    "                payouthonestEIP+= eps*starget\n",
    "                basefeevalue = basefeeEIP(basefeevalue,starget,f)\n",
    "            else: \n",
    "                basefeevalue = basefeeEIP(basefeevalue,2*starget,f)\n",
    "            if basefeevalue >=close*btarget: \n",
    "                ATTACK =False     \n",
    "\n",
    "        payoutattackTotalEIP.append(payoutattackEIP)\n",
    "        payouthonestTotalEIP.append(payouthonestEIP)\n",
    "        counterTotalEIP.append(counter)\n",
    "\n",
    "    relativeDiff= [(i-j) for i, j in zip(payoutattackTotalEIP, payouthonestTotalEIP)]    \n",
    "    return relativeDiff, counterTotalEIP"
   ]
  },
  {
   "cell_type": "markdown",
   "metadata": {},
   "source": [
    "## Profitability of attack under EIP-1559 and the proposed mitigation\n",
    "\n",
    "The produced plots corresponds to the plots in Figure 5."
   ]
  },
  {
   "cell_type": "code",
   "execution_count": 7,
   "metadata": {},
   "outputs": [],
   "source": [
    "#plot parameters\n",
    "plt.rcParams[\"figure.figsize\"] = (2.6,1.4) \n",
    "font = {'family' : 'sans-serif', 'size'   : 6.3}\n",
    "matplotlib.rc('font', **font)   "
   ]
  },
  {
   "cell_type": "code",
   "execution_count": 8,
   "metadata": {},
   "outputs": [
    {
     "data": {
      "image/png": "[encoded data removed]",
      "text/plain": [
       "<Figure size 260x140 with 1 Axes>"
      ]
     },
     "metadata": {},
     "output_type": "display_data"
    }
   ],
   "source": [
    "#set parameters\n",
    "px = 0.4\n",
    "q = [0.25,0.5,0.75]\n",
    "f = 1/8\n",
    "btarget = 25\n",
    "a =0.5\n",
    "eps  = 1\n",
    "pxs = np.linspace(0.2, 0.5, num=100)\n",
    "\n",
    "#initialize lists\n",
    "xs =[]\n",
    "ys =[]\n",
    "zs = []\n",
    "y1s=[]\n",
    "z1s =[]\n",
    "y2s=[]\n",
    "z2s =[]\n",
    "y3s=[]\n",
    "z3s =[]\n",
    "\n",
    "#run simulations\n",
    "for px in pxs:\n",
    "    xs += [px]*runs\n",
    "    y, z = EIP(px,f,btarget,eps,a)\n",
    "    zs += z \n",
    "    ys += y\n",
    "    y1, z1 = mitigation(px,f,btarget,eps,a,q[0])\n",
    "    y1s +=y1\n",
    "    z1s +=z1\n",
    "    y2, z2 = mitigation(px,f,btarget,eps,a,q[1])\n",
    "    y2s +=y2\n",
    "    z2s +=z2\n",
    "    y3, z3 = mitigation(px,f,btarget,eps,a,q[2])\n",
    "    y3s +=y3\n",
    "    z3s +=z3\n",
    "\n",
    "#plot\n",
    "plt.axhline(0,color =\"black\",linewidth = 1)\n",
    "ax = sns.lineplot(x = xs, y = ys,label = \"EIP-1559\", color = Color.RED.value)\n",
    "ax = sns.lineplot(x = xs, y = y1s,label = \"with q = 0.25\",color = Color.LIGHTGREEN.value)\n",
    "ax = sns.lineplot(x = xs, y = y2s,label = \"with q = 0.5\",color = Color.LIGHTBLUE.value)\n",
    "ax = sns.lineplot(x = xs, y = y3s,label = \"with q = 0.75\",color = Color.DARKBLUE.value)\n",
    "plt.xlim(pxs[0],pxs[-1])\n",
    "plt.ylabel(r\"$\\overline{R[A]-R[H]}$\")\n",
    "plt.xlabel(r\"$p_x$\")\n",
    "handles, labels = ax.get_legend_handles_labels()\n",
    "lgd = ax.legend(handles,labels,facecolor =\"white\", framealpha=1, bbox_to_anchor=(0., 1.02, 1., .102), loc=3,  ncol=2, mode=\"expand\", borderaxespad=0.)\n",
    "plt.show()"
   ]
  },
  {
   "cell_type": "code",
   "execution_count": 9,
   "metadata": {},
   "outputs": [
    {
     "data": {
      "image/png": "[encoded data removed]",
      "text/plain": [
       "<Figure size 260x140 with 1 Axes>"
      ]
     },
     "metadata": {},
     "output_type": "display_data"
    }
   ],
   "source": [
    "#set parameters\n",
    "px = 0.4\n",
    "q = [0.25,0.5,0.7]\n",
    "f = 1/8\n",
    "btarget = 25\n",
    "a =0.5\n",
    "epss = np.linspace(0.0001, 0.09999, num=100)\n",
    "\n",
    "#initialize lists\n",
    "xs =[]\n",
    "ys =[]\n",
    "y1s=[]\n",
    "y2s = []\n",
    "y3s = []\n",
    "zs = []\n",
    "z1s =[]\n",
    "z2s = []\n",
    "z3s = []\n",
    "\n",
    "#run simulations\n",
    "for eps in epss:\n",
    "    xs += [eps]*runs\n",
    "    y, z = EIP(px,f,btarget,btarget*eps,a)\n",
    "    zs += z \n",
    "    ys += y\n",
    "    y1, z1 = mitigation(px,f,btarget,btarget*eps,a,q[0])\n",
    "    y1s +=y1\n",
    "    z1s +=z1\n",
    "    y2, z2 = mitigation(px,f,btarget,btarget*eps,a,q[1])\n",
    "    y2s +=y2\n",
    "    z2s +=z2\n",
    "    y3, z3 = mitigation(px,f,btarget,btarget*eps,a,q[2])\n",
    "    y3s +=y3\n",
    "    z3s +=z3\n",
    "\n",
    "#plot\n",
    "plt.axhline(0,color =\"black\",linewidth = 1)\n",
    "ax = sns.lineplot(x = xs, y = ys,label = \"EIP-1559\", color = Color.RED.value)\n",
    "ax = sns.lineplot(x = xs, y = y1s,label = \"with q = 0.25\",color = Color.LIGHTGREEN.value)\n",
    "ax = sns.lineplot(x = xs, y = y2s,label = \"with q = 0.5\",color = Color.LIGHTBLUE.value)\n",
    "ax = sns.lineplot(x = xs, y = y3s,label = \"with q = 0.75\",color = Color.DARKBLUE.value)\n",
    "plt.xlim(epss[0],epss[-1])\n",
    "plt.ylabel(r\"$\\overline{R[A]-R[H]}$\")\n",
    "plt.xlabel(r\"$\\varepsilon/b^*$\")\n",
    "handles, labels = ax.get_legend_handles_labels()\n",
    "lgd = ax.legend(handles,labels,facecolor =\"white\", framealpha=1, bbox_to_anchor=(0., 1.02, 1., .102), loc=3,  ncol=2, mode=\"expand\", borderaxespad=0.)\n",
    "plt.show()"
   ]
  },
  {
   "cell_type": "markdown",
   "metadata": {},
   "source": [
    "## Comparison of attack profitability\n",
    "The produced plots corresponds to the plots in Figure 6. "
   ]
  },
  {
   "cell_type": "code",
   "execution_count": 10,
   "metadata": {},
   "outputs": [],
   "source": [
    "#plot parameters\n",
    "plt.rcParams[\"figure.figsize\"] = (1.5,1.4) \n",
    "font = {'family' : 'sans-serif', 'size'   : 6.3}\n",
    "matplotlib.rc('font', **font)   "
   ]
  },
  {
   "cell_type": "code",
   "execution_count": 11,
   "metadata": {},
   "outputs": [
    {
     "data": {
      "image/png": "[encoded data removed]",
      "text/plain": [
       "<Figure size 150x140 with 1 Axes>"
      ]
     },
     "metadata": {},
     "output_type": "display_data"
    }
   ],
   "source": [
    "#run simulation for q = 0.25\n",
    "pxs = np.linspace(0.2, 0.5, num=100)\n",
    "epss = np.linspace(0.02, 0.06, num=100)\n",
    "px = 0.4\n",
    "q = 0.25\n",
    "f = 1/8\n",
    "btarget = 25\n",
    "a =0.5\n",
    "eps  = 1\n",
    "pxs1, epss1 = np.meshgrid(pxs, epss)\n",
    "Z = np.empty(shape=(len(epss),len(pxs)))\n",
    "for i in range(len(pxs)): \n",
    "      px = pxs[i]\n",
    "      for j in range(len(epss)):\n",
    "            eps =epss[j]\n",
    "            y1, z1 = mitigation(px,f,btarget,btarget*eps,a,q)\n",
    "            y1avg  = sum(y1) / len(y1)\n",
    "            y2, z2 = EIP(px,f,btarget,btarget*eps,a)\n",
    "            y2avg  = sum(y2) / len(y2)\n",
    "            if y1avg >0 and y2avg>0: \n",
    "                  Z[i, j] =1\n",
    "            elif y2avg>0: \n",
    "                  Z[i, j] =0\n",
    "            else: \n",
    "                  Z[i, j] =-1\n",
    "\n",
    "#plot\n",
    "cmap = ListedColormap([Color.YELLOW.value, Color.GREEN.value, Color.PINK.value])# 11 discrete colors\n",
    "plt.xlabel(r\"$\\varepsilon/b^*$\")\n",
    "plt.ylabel(r\"$p_x$\")\n",
    "legend_elements = [Patch(facecolor=Color.YELLOW.value, label=r\"both unprofitable\"),\n",
    "                  Patch(facecolor=Color.GREEN.value, label=r\"EIP-1559 profitable\"),\n",
    "                  Patch(facecolor=Color.PINK.value, label=r\"both profitable\")]\n",
    "ax = plt.gca()\n",
    "plt.imshow(Z, cmap=cmap, interpolation='gaussian', vmin = -1,vmax =1,extent=[0.02, 0.059999999,0.2,0.5],origin='lower', aspect=\"auto\")#\n",
    "lgd = ax.legend(handles=legend_elements,facecolor =\"white\", framealpha=1, bbox_to_anchor=(0., 1.02, 1., .102), loc=3,  ncol=1, mode=\"expand\", borderaxespad=0.)\n",
    "plt.show()"
   ]
  },
  {
   "cell_type": "code",
   "execution_count": 12,
   "metadata": {},
   "outputs": [
    {
     "data": {
      "image/png": "[encoded data removed]",
      "text/plain": [
       "<Figure size 150x140 with 1 Axes>"
      ]
     },
     "metadata": {},
     "output_type": "display_data"
    }
   ],
   "source": [
    "#run simulation for q = 0.5\n",
    "pxs = np.linspace(0.2, 0.5, num=100)\n",
    "epss = np.linspace(0.02, 0.06, num=100)\n",
    "px = 0.4\n",
    "q = 0.5\n",
    "f = 1/8\n",
    "btarget = 25\n",
    "a =0.5\n",
    "eps  = 1\n",
    "pxs1, epss1 = np.meshgrid(pxs, epss)\n",
    "Z = np.empty(shape=(len(epss),len(pxs)))\n",
    "for i in range(len(pxs)): \n",
    "      px = pxs[i]\n",
    "      for j in range(len(epss)):\n",
    "            eps =epss[j]\n",
    "            y1, z1 = mitigation(px,f,btarget,btarget*eps,a,q)\n",
    "            y1avg  = sum(y1) / len(y1)\n",
    "            y2, z2 = EIP(px,f,btarget,btarget*eps,a)\n",
    "            y2avg  = sum(y2) / len(y2)\n",
    "            if y1avg >0 and y2avg>0: \n",
    "                  Z[i, j] =1\n",
    "            elif y2avg>0: \n",
    "                  Z[i, j] =0\n",
    "            else: \n",
    "                  Z[i, j] =-1\n",
    "\n",
    "#plot\n",
    "cmap = ListedColormap([Color.YELLOW.value, Color.GREEN.value, Color.PINK.value])# 11 discrete colors\n",
    "plt.xlabel(r\"$\\varepsilon/b^*$\")\n",
    "plt.ylabel(r\"$p_x$\")\n",
    "legend_elements = [Patch(facecolor=Color.YELLOW.value, label=r\"both unprofitable\"),\n",
    "                  Patch(facecolor=Color.GREEN.value, label=r\"EIP-1559 profitable\"),\n",
    "                  Patch(facecolor=Color.PINK.value, label=r\"both profitable\")]\n",
    "ax = plt.gca()\n",
    "plt.imshow(Z, cmap=cmap, interpolation='gaussian', vmin = -1,vmax =1,extent=[0.02, 0.059999999,0.2,0.5],origin='lower', aspect=\"auto\")#\n",
    "lgd = ax.legend(handles=legend_elements,facecolor =\"white\", framealpha=1, bbox_to_anchor=(0., 1.02, 1., .102), loc=3,  ncol=1, mode=\"expand\", borderaxespad=0.)\n",
    "plt.show()"
   ]
  },
  {
   "cell_type": "code",
   "execution_count": 13,
   "metadata": {},
   "outputs": [
    {
     "data": {
      "image/png": "[encoded data removed]",
      "text/plain": [
       "<Figure size 150x140 with 1 Axes>"
      ]
     },
     "metadata": {},
     "output_type": "display_data"
    }
   ],
   "source": [
    "#run simulation for q = 0.75\n",
    "pxs = np.linspace(0.2, 0.5, num=100)\n",
    "epss = np.linspace(0.02, 0.06, num=100)\n",
    "px = 0.4\n",
    "q = 0.75\n",
    "f = 1/8\n",
    "btarget = 25\n",
    "a =0.5\n",
    "eps  = 1\n",
    "pxs1, epss1 = np.meshgrid(pxs, epss)\n",
    "Z = np.empty(shape=(len(epss),len(pxs)))\n",
    "for i in range(len(pxs)): \n",
    "      px = pxs[i]\n",
    "      for j in range(len(epss)):\n",
    "            eps =epss[j]\n",
    "            y1, z1 = mitigation(px,f,btarget,btarget*eps,a,q)\n",
    "            y1avg  = sum(y1) / len(y1)\n",
    "            y2, z2 = EIP(px,f,btarget,btarget*eps,a)\n",
    "            y2avg  = sum(y2) / len(y2)\n",
    "            if y1avg >0 and y2avg>0: \n",
    "                  Z[i, j] =1\n",
    "            elif y2avg>0: \n",
    "                  Z[i, j] =0\n",
    "            else: \n",
    "                  Z[i, j] =-1\n",
    "\n",
    "#plot\n",
    "cmap = ListedColormap([Color.YELLOW.value, Color.GREEN.value, Color.PINK.value])# 11 discrete colors\n",
    "plt.xlabel(r\"$\\varepsilon/b^*$\")\n",
    "plt.ylabel(r\"$p_x$\")\n",
    "legend_elements = [Patch(facecolor=Color.YELLOW.value, label=r\"both unprofitable\"),\n",
    "                  Patch(facecolor=Color.GREEN.value, label=r\"EIP-1559 profitable\"),\n",
    "                  Patch(facecolor=Color.PINK.value, label=r\"both profitable\")]\n",
    "ax = plt.gca()\n",
    "plt.imshow(Z, cmap=cmap, interpolation='gaussian', vmin = -1,vmax =1,extent=[0.02, 0.059999999,0.2,0.5],origin='lower', aspect=\"auto\")#\n",
    "lgd = ax.legend(handles=legend_elements,facecolor =\"white\", framealpha=1, bbox_to_anchor=(0., 1.02, 1., .102), loc=3,  ncol=1, mode=\"expand\", borderaxespad=0.)\n",
    "plt.show()"
   ]
  },
  {
   "cell_type": "markdown",
   "metadata": {},
   "source": [
    "## Number of consecutive full blocks (T) required to increase the base fee\n",
    "The produced plots corresponds to the plots in Figure 7.  "
   ]
  },
  {
   "cell_type": "code",
   "execution_count": 14,
   "metadata": {},
   "outputs": [],
   "source": [
    "#plot parameters\n",
    "plt.rcParams[\"figure.figsize\"] = (3,1.4) \n",
    "font = {'family' : 'sans-serif', 'size'   : 6.3}\n",
    "matplotlib.rc('font', **font)   "
   ]
  },
  {
   "cell_type": "code",
   "execution_count": 15,
   "metadata": {},
   "outputs": [
    {
     "data": {
      "image/png": "[encoded data removed]",
      "text/plain": [
       "<Figure size 300x140 with 1 Axes>"
      ]
     },
     "metadata": {},
     "output_type": "display_data"
    }
   ],
   "source": [
    "#set parameters\n",
    "f = 1/8\n",
    "qs =[0.25,0.5,0.75]\n",
    "betas = np.linspace(1,100,num = 100)\n",
    "\n",
    "#initialize lists\n",
    "T = []\n",
    "T1 = []\n",
    "T2 = []\n",
    "T3 = []\n",
    "\n",
    "#run simulations\n",
    "for beta in betas: \n",
    "    T.append(math.floor(np.log(beta)/np.log(1+f)))\n",
    "    prod = 1\n",
    "    k = 0\n",
    "    while prod < beta:         \n",
    "        prod *= (1+f*(1-qs[0]**k))\n",
    "        k += 1\n",
    "    T1.append(max(0,k-1))\n",
    "    k = 0\n",
    "    prod = 1\n",
    "    while prod < beta: \n",
    "        \n",
    "        prod *= (1+f*(1-qs[1]**k))\n",
    "        k += 1\n",
    "    T2.append(max(0,k-1))    \n",
    "    k = 0\n",
    "    prod = 1\n",
    "    while prod < beta: \n",
    "        k += 1\n",
    "        prod *= (1+f*(1-qs[2]**k))        \n",
    "    T3.append(max(0,k-1))\n",
    "\n",
    "#plot\n",
    "ax = plt.gca()\n",
    "plt.plot(betas,T,label = \"EIP-1559\", color = Color.RED.value)\n",
    "plt.plot(betas,T1,label = \"with q = 0.25\",color = Color.LIGHTGREEN.value)\n",
    "plt.plot(betas,T2,label = \"with q = 0.5\",color = Color.LIGHTBLUE.value)\n",
    "plt.plot(betas,T3,label = \"with q = 0.75\",color = Color.DARKBLUE.value)\n",
    "plt.xlabel(r\"$\\beta$\")\n",
    "plt.ylabel(r\"$T$\")\n",
    "handles, labels = ax.get_legend_handles_labels()\n",
    "lgd = ax.legend(handles,labels,facecolor =\"white\", framealpha=1, bbox_to_anchor=(0., 1.02, 1., .102), loc=3,  ncol=2, mode=\"expand\", borderaxespad=0.)\n",
    "plt.show()\n"
   ]
  }
 ],
 "metadata": {
  "kernelspec": {
   "display_name": "base",
   "language": "python",
   "name": "python3"
  },
  "language_info": {
   "codemirror_mode": {
    "name": "ipython",
    "version": 3
   },
   "file_extension": ".py",
   "mimetype": "text/x-python",
   "name": "python",
   "nbconvert_exporter": "python",
   "pygments_lexer": "ipython3",
   "version": "3.9.7"
  },
  "orig_nbformat": 4,
  "vscode": {
   "interpreter": {
    "hash": "a077222d77dfe082b8f1dd562ad70e458ac2ab76993a0b248ab0476e32e9e8dd"
   }
  }
 },
 "nbformat": 4,
 "nbformat_minor": 2
}
